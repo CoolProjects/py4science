{
 "metadata": {
  "name": "workflow"
 },
 "nbformat": 3,
 "worksheets": [
  {
   "cells": [
    {
     "cell_type": "markdown",
     "source": [
      "# Python workflow for scientific computing",
      "",
      "## Executing simple statements",
      "",
      "* Defining variables and printing their content",
      "* Python can be used like a simple calculator",
      "* For loops and multiline editing"
     ]
    },
    {
     "cell_type": "code",
     "collapsed": false,
     "input": [],
     "language": "python",
     "outputs": []
    },
    {
     "cell_type": "markdown",
     "source": [
      " "
     ]
    },
    {
     "cell_type": "markdown",
     "source": [
      "## Understanding objects",
      "* The tab key",
      "* Builtin help with `x?` and `x??`"
     ]
    },
    {
     "cell_type": "code",
     "collapsed": false,
     "input": [
      "s = 'hello Claremont'",
      "s.upper()"
     ],
     "language": "python",
     "outputs": [
      {
       "output_type": "pyout",
       "prompt_number": 1,
       "text": [
        "'HELLO CLAREMONT'"
       ]
      }
     ],
     "prompt_number": 1
    },
    {
     "cell_type": "code",
     "collapsed": false,
     "input": [
      "for i in range(10):",
      "    print i",
      "    if i>5:",
      "        print 'big numbers!'"
     ],
     "language": "python",
     "outputs": [
      {
       "output_type": "stream",
       "stream": "stdout",
       "text": [
        "0",
        "1",
        "2",
        "3",
        "4",
        "5",
        "6",
        "big numbers!",
        "7",
        "big numbers!",
        "8",
        "big numbers!",
        "9",
        "big numbers!"
       ]
      }
     ],
     "prompt_number": 2
    },
    {
     "cell_type": "markdown",
     "source": [
      "## Finding help ",
      "",
      "* The Python documentation",
      "* The docs for related projects (links on the left)"
     ]
    },
    {
     "cell_type": "markdown",
     "source": [
      "## Understanding error messages"
     ]
    },
    {
     "cell_type": "code",
     "collapsed": true,
     "input": [],
     "language": "python",
     "outputs": []
    }
   ]
  }
 ]
}